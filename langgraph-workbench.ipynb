{
 "cells": [
  {
   "cell_type": "code",
   "execution_count": 12,
   "id": "initial_id",
   "metadata": {
    "collapsed": true,
    "ExecuteTime": {
     "end_time": "2024-10-26T21:22:57.375091Z",
     "start_time": "2024-10-26T21:22:57.307687Z"
    }
   },
   "outputs": [
    {
     "data": {
      "text/plain": "True"
     },
     "execution_count": 12,
     "metadata": {},
     "output_type": "execute_result"
    }
   ],
   "source": [
    "import os\n",
    "from dotenv import load_dotenv\n",
    "\n",
    "load_dotenv()"
   ]
  },
  {
   "cell_type": "code",
   "outputs": [
    {
     "name": "stdout",
     "output_type": "stream",
     "text": [
      "AI: Certainly! I'd be happy to help you write an email to vva2@tamu.edu. To send the email, we'll use the `send_email` function. However, we need a subject and body for the email. Since you haven't provided these details, I'll ask you for more information before we proceed.\n",
      "\n",
      "Could you please provide:\n",
      "1. The subject of the email\n",
      "2. The content you'd like in the body of the email\n",
      "\n",
      "Once you provide this information, I'll be able to draft the email and send it using the available tool.\n",
      "Sending email to vva2@tamu.edu\n",
      "Subject: Approaching Deadline for CSCE 689\n",
      "Body: Dear Professor,\n",
      "\n",
      "I hope this email finds you well. I am writing to inquire about the approaching deadline for CSCE 689. I wanted to confirm the exact due date and ensure that I have all the necessary information to complete the assignment on time.\n",
      "\n",
      "Could you please provide any additional details or reminders regarding the upcoming deadline? If there are any specific requirements or guidelines I should be aware of, I would greatly appreciate if you could share them.\n",
      "\n",
      "Thank you for your time and assistance.\n",
      "\n",
      "Best regards,\n",
      "[Your Name]\n",
      "AI: I've composed and sent an email to vva2@tamu.edu regarding the approaching deadline for CSCE 689. Here's a summary of the email:\n",
      "\n",
      "- Recipient: vva2@tamu.edu\n",
      "- Subject: Approaching Deadline for CSCE 689\n",
      "- Body: A polite inquiry about the exact due date, any additional details, and specific requirements or guidelines for the assignment.\n",
      "\n",
      "The email has been sent successfully. Is there anything else you would like me to do or any other information you need regarding this matter?\n"
     ]
    }
   ],
   "source": [
    "from typing import Optional, Literal\n",
    "from langchain_core.messages import HumanMessage, AIMessage\n",
    "from langchain_anthropic import ChatAnthropic\n",
    "from langchain_core.tools import tool, Tool\n",
    "from langgraph.checkpoint.memory import MemorySaver\n",
    "from langgraph.graph import END, START, StateGraph, MessagesState\n",
    "from langgraph.prebuilt import ToolNode\n",
    "\n",
    "# Define the tools for the agent to use\n",
    "@tool\n",
    "def send_email(recipient_email: Optional[str] = None, subject: Optional[str] = None, body: Optional[str] = None):\n",
    "    \"\"\"Send an email to recipient_email with subject and body.\"\"\"\n",
    "    missing_details = []\n",
    "    if not recipient_email:\n",
    "        missing_details.append(\"recipient email\")\n",
    "    if not subject:\n",
    "        missing_details.append(\"subject\")\n",
    "    if not body:\n",
    "        missing_details.append(\"body\")\n",
    "    \n",
    "    if missing_details:\n",
    "        return f\"Missing details: {', '.join(missing_details)}. Please provide them.\"\n",
    "    \n",
    "    print(f\"Sending email to {recipient_email}\")\n",
    "    print(f\"Subject: {subject}\")\n",
    "    print(f\"Body: {body}\")\n",
    "    return \"Email sent successfully.\"\n",
    "\n",
    "tools = [\n",
    "    send_email\n",
    "]\n",
    "\n",
    "tool_node = ToolNode(tools)\n",
    "\n",
    "model = ChatAnthropic(model=\"claude-3-5-sonnet-20240620\", temperature=0).bind_tools(tools)\n",
    "\n",
    "def should_continue(state: MessagesState) -> Literal[\"tools\", END]:\n",
    "    messages = state['messages']\n",
    "    last_message = messages[-1]\n",
    "    if last_message.tool_calls:\n",
    "        return \"tools\"\n",
    "    return END\n",
    "\n",
    "def call_model(state: MessagesState):\n",
    "    messages = state['messages']\n",
    "    response = model.invoke(messages)\n",
    "    return {\"messages\": [response]}\n",
    "\n",
    "# Define the state graph\n",
    "workflow = StateGraph(MessagesState)\n",
    "workflow.add_node(\"agent\", call_model)\n",
    "workflow.add_node(\"tools\", tool_node)\n",
    "\n",
    "workflow.add_edge(START, \"agent\")\n",
    "workflow.add_conditional_edges(\"agent\", should_continue)\n",
    "workflow.add_edge(\"tools\", \"agent\")\n",
    "\n",
    "checkpointer = MemorySaver()\n",
    "\n",
    "def run_assistant(app):\n",
    "    state = {\"messages\": []}\n",
    "    \n",
    "    while True:\n",
    "        user_input = input(\"You: \")\n",
    "        state[\"messages\"].append(HumanMessage(content=user_input))\n",
    "        final_state = app.invoke(\n",
    "            {\"messages\": state[\"messages\"]},\n",
    "            config={\"configurable\": {\"thread_id\": 53}}\n",
    "        )\n",
    "        \n",
    "        response_content = final_state[\"messages\"][-1].content\n",
    "        print(f\"AI: {response_content}\")\n",
    "        \n",
    "        # Check if the response indicates missing details\n",
    "        if \"please provide\" in response_content:\n",
    "            # The assistant will ask for missing information\n",
    "            additional_info = input(\"You (additional info): \")\n",
    "            state[\"messages\"].append(HumanMessage(content=additional_info))\n",
    "        else:\n",
    "            break\n",
    "\n",
    "# Run the assistant\n",
    "workflow_app = workflow.compile(checkpointer=checkpointer)\n",
    "run_assistant(workflow_app)\n"
   ],
   "metadata": {
    "collapsed": false,
    "ExecuteTime": {
     "end_time": "2024-10-24T18:54:30.016742Z",
     "start_time": "2024-10-24T18:53:26.678315Z"
    }
   },
   "id": "3d03858ef4182e45",
   "execution_count": 10
  },
  {
   "cell_type": "code",
   "outputs": [
    {
     "ename": "ValueError",
     "evalue": "Node `prompt_for_info` is not reachable",
     "output_type": "error",
     "traceback": [
      "\u001B[1;31m---------------------------------------------------------------------------\u001B[0m",
      "\u001B[1;31mValueError\u001B[0m                                Traceback (most recent call last)",
      "Cell \u001B[1;32mIn[13], line 107\u001B[0m\n\u001B[0;32m    104\u001B[0m             \u001B[38;5;28;01mbreak\u001B[39;00m\n\u001B[0;32m    106\u001B[0m \u001B[38;5;66;03m# Run the assistant\u001B[39;00m\n\u001B[1;32m--> 107\u001B[0m workflow_app \u001B[38;5;241m=\u001B[39m \u001B[43mworkflow\u001B[49m\u001B[38;5;241;43m.\u001B[39;49m\u001B[43mcompile\u001B[49m\u001B[43m(\u001B[49m\u001B[43mcheckpointer\u001B[49m\u001B[38;5;241;43m=\u001B[39;49m\u001B[43mcheckpointer\u001B[49m\u001B[43m)\u001B[49m\n\u001B[0;32m    108\u001B[0m run_assistant(workflow_app)\n",
      "File \u001B[1;32mc:\\Users\\vva\\anaconda3\\envs\\programming-llms\\Lib\\site-packages\\langgraph\\graph\\state.py:430\u001B[0m, in \u001B[0;36mStateGraph.compile\u001B[1;34m(self, checkpointer, store, interrupt_before, interrupt_after, debug)\u001B[0m\n\u001B[0;32m    427\u001B[0m interrupt_after \u001B[38;5;241m=\u001B[39m interrupt_after \u001B[38;5;129;01mor\u001B[39;00m []\n\u001B[0;32m    429\u001B[0m \u001B[38;5;66;03m# validate the graph\u001B[39;00m\n\u001B[1;32m--> 430\u001B[0m \u001B[38;5;28;43mself\u001B[39;49m\u001B[38;5;241;43m.\u001B[39;49m\u001B[43mvalidate\u001B[49m\u001B[43m(\u001B[49m\n\u001B[0;32m    431\u001B[0m \u001B[43m    \u001B[49m\u001B[43minterrupt\u001B[49m\u001B[38;5;241;43m=\u001B[39;49m\u001B[43m(\u001B[49m\n\u001B[0;32m    432\u001B[0m \u001B[43m        \u001B[49m\u001B[43m(\u001B[49m\u001B[43minterrupt_before\u001B[49m\u001B[43m \u001B[49m\u001B[38;5;28;43;01mif\u001B[39;49;00m\u001B[43m \u001B[49m\u001B[43minterrupt_before\u001B[49m\u001B[43m \u001B[49m\u001B[38;5;241;43m!=\u001B[39;49m\u001B[43m \u001B[49m\u001B[38;5;124;43m\"\u001B[39;49m\u001B[38;5;124;43m*\u001B[39;49m\u001B[38;5;124;43m\"\u001B[39;49m\u001B[43m \u001B[49m\u001B[38;5;28;43;01melse\u001B[39;49;00m\u001B[43m \u001B[49m\u001B[43m[\u001B[49m\u001B[43m]\u001B[49m\u001B[43m)\u001B[49m\u001B[43m \u001B[49m\u001B[38;5;241;43m+\u001B[39;49m\u001B[43m \u001B[49m\u001B[43minterrupt_after\u001B[49m\n\u001B[0;32m    433\u001B[0m \u001B[43m        \u001B[49m\u001B[38;5;28;43;01mif\u001B[39;49;00m\u001B[43m \u001B[49m\u001B[43minterrupt_after\u001B[49m\u001B[43m \u001B[49m\u001B[38;5;241;43m!=\u001B[39;49m\u001B[43m \u001B[49m\u001B[38;5;124;43m\"\u001B[39;49m\u001B[38;5;124;43m*\u001B[39;49m\u001B[38;5;124;43m\"\u001B[39;49m\n\u001B[0;32m    434\u001B[0m \u001B[43m        \u001B[49m\u001B[38;5;28;43;01melse\u001B[39;49;00m\u001B[43m \u001B[49m\u001B[43m[\u001B[49m\u001B[43m]\u001B[49m\n\u001B[0;32m    435\u001B[0m \u001B[43m    \u001B[49m\u001B[43m)\u001B[49m\n\u001B[0;32m    436\u001B[0m \u001B[43m\u001B[49m\u001B[43m)\u001B[49m\n\u001B[0;32m    438\u001B[0m \u001B[38;5;66;03m# prepare output channels\u001B[39;00m\n\u001B[0;32m    439\u001B[0m output_channels \u001B[38;5;241m=\u001B[39m (\n\u001B[0;32m    440\u001B[0m     \u001B[38;5;124m\"\u001B[39m\u001B[38;5;124m__root__\u001B[39m\u001B[38;5;124m\"\u001B[39m\n\u001B[0;32m    441\u001B[0m     \u001B[38;5;28;01mif\u001B[39;00m \u001B[38;5;28mlen\u001B[39m(\u001B[38;5;28mself\u001B[39m\u001B[38;5;241m.\u001B[39mschemas[\u001B[38;5;28mself\u001B[39m\u001B[38;5;241m.\u001B[39moutput]) \u001B[38;5;241m==\u001B[39m \u001B[38;5;241m1\u001B[39m\n\u001B[1;32m   (...)\u001B[0m\n\u001B[0;32m    447\u001B[0m     ]\n\u001B[0;32m    448\u001B[0m )\n",
      "File \u001B[1;32mc:\\Users\\vva\\anaconda3\\envs\\programming-llms\\Lib\\site-packages\\langgraph\\graph\\graph.py:393\u001B[0m, in \u001B[0;36mGraph.validate\u001B[1;34m(self, interrupt)\u001B[0m\n\u001B[0;32m    391\u001B[0m \u001B[38;5;28;01mfor\u001B[39;00m node \u001B[38;5;129;01min\u001B[39;00m \u001B[38;5;28mself\u001B[39m\u001B[38;5;241m.\u001B[39mnodes:\n\u001B[0;32m    392\u001B[0m     \u001B[38;5;28;01mif\u001B[39;00m node \u001B[38;5;129;01mnot\u001B[39;00m \u001B[38;5;129;01min\u001B[39;00m all_targets:\n\u001B[1;32m--> 393\u001B[0m         \u001B[38;5;28;01mraise\u001B[39;00m \u001B[38;5;167;01mValueError\u001B[39;00m(\u001B[38;5;124mf\u001B[39m\u001B[38;5;124m\"\u001B[39m\u001B[38;5;124mNode `\u001B[39m\u001B[38;5;132;01m{\u001B[39;00mnode\u001B[38;5;132;01m}\u001B[39;00m\u001B[38;5;124m` is not reachable\u001B[39m\u001B[38;5;124m\"\u001B[39m)\n\u001B[0;32m    394\u001B[0m \u001B[38;5;28;01mfor\u001B[39;00m target \u001B[38;5;129;01min\u001B[39;00m all_targets:\n\u001B[0;32m    395\u001B[0m     \u001B[38;5;28;01mif\u001B[39;00m target \u001B[38;5;129;01mnot\u001B[39;00m \u001B[38;5;129;01min\u001B[39;00m \u001B[38;5;28mself\u001B[39m\u001B[38;5;241m.\u001B[39mnodes \u001B[38;5;129;01mand\u001B[39;00m target \u001B[38;5;241m!=\u001B[39m END:\n",
      "\u001B[1;31mValueError\u001B[0m: Node `prompt_for_info` is not reachable"
     ]
    }
   ],
   "source": [],
   "metadata": {
    "collapsed": false,
    "ExecuteTime": {
     "end_time": "2024-10-26T21:23:02.142288Z",
     "start_time": "2024-10-26T21:23:01.131538Z"
    }
   },
   "id": "dc2f2419b9ae4f61",
   "execution_count": 13
  },
  {
   "cell_type": "code",
   "outputs": [],
   "source": [],
   "metadata": {
    "collapsed": false
   },
   "id": "da27a4e3bb12efd0"
  }
 ],
 "metadata": {
  "kernelspec": {
   "display_name": "Python 3",
   "language": "python",
   "name": "python3"
  },
  "language_info": {
   "codemirror_mode": {
    "name": "ipython",
    "version": 2
   },
   "file_extension": ".py",
   "mimetype": "text/x-python",
   "name": "python",
   "nbconvert_exporter": "python",
   "pygments_lexer": "ipython2",
   "version": "2.7.6"
  }
 },
 "nbformat": 4,
 "nbformat_minor": 5
}
